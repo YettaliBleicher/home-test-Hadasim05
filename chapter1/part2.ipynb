{
 "cells": [
  {
   "cell_type": "code",
   "execution_count": 80,
   "metadata": {},
   "outputs": [
    {
     "name": "stdout",
     "output_type": "stream",
     "text": [
      "Collecting pyarrow\n",
      "  Downloading pyarrow-17.0.0-cp38-cp38-win_amd64.whl (25.2 MB)\n",
      "Requirement already satisfied: numpy>=1.16.6 in c:\\users\\user1\\anaconda3\\lib\\site-packages (from pyarrow) (1.19.2)\n",
      "Installing collected packages: pyarrow\n",
      "Successfully installed pyarrow-17.0.0\n"
     ]
    }
   ],
   "source": [
    "import pandas as pd\n",
    "import glob\n",
    "import csv\n",
    "from collections import Counter\n",
    "import os\n",
    "from datetime import datetime\n",
    "!pip install pyarrow\n",
    "import pyarrow.parquet as pq"
   ]
  },
  {
   "cell_type": "markdown",
   "metadata": {},
   "source": [
    "הפונקציה הראשית נמצאת בסוף הדף, נית לראות בה את סדר זימון הפעולות עם הסבר."
   ]
  },
  {
   "cell_type": "code",
   "execution_count": 75,
   "metadata": {},
   "outputs": [],
   "source": [
    "#--------סעיף 2"
   ]
  },
  {
   "cell_type": "code",
   "execution_count": 63,
   "metadata": {},
   "outputs": [],
   "source": [
    "#המרת קובץ EXCEL ל CSV\n",
    "def convert_excel_to_csv(input_file, output_file):\n",
    "    df = pd.read_excel(input_file, engine='openpyxl')  \n",
    "    df.to_csv(output_file, index=False, encoding='utf-8') "
   ]
  },
  {
   "cell_type": "code",
   "execution_count": 43,
   "metadata": {},
   "outputs": [],
   "source": [
    "convert_excel_to_csv(\"time_series.xlsx\", \"time_series_csv.csv\")"
   ]
  },
  {
   "cell_type": "code",
   "execution_count": 4,
   "metadata": {},
   "outputs": [],
   "source": [
    "df=pd.read_csv(\"time_series_csv.csv\")"
   ]
  },
  {
   "cell_type": "code",
   "execution_count": 6,
   "metadata": {},
   "outputs": [
    {
     "data": {
      "text/html": [
       "<div>\n",
       "<style scoped>\n",
       "    .dataframe tbody tr th:only-of-type {\n",
       "        vertical-align: middle;\n",
       "    }\n",
       "\n",
       "    .dataframe tbody tr th {\n",
       "        vertical-align: top;\n",
       "    }\n",
       "\n",
       "    .dataframe thead th {\n",
       "        text-align: right;\n",
       "    }\n",
       "</style>\n",
       "<table border=\"1\" class=\"dataframe\">\n",
       "  <thead>\n",
       "    <tr style=\"text-align: right;\">\n",
       "      <th></th>\n",
       "      <th>timestamp</th>\n",
       "      <th>value</th>\n",
       "    </tr>\n",
       "  </thead>\n",
       "  <tbody>\n",
       "    <tr>\n",
       "      <th>0</th>\n",
       "      <td>2025-06-28 12:00:52</td>\n",
       "      <td>18.5</td>\n",
       "    </tr>\n",
       "    <tr>\n",
       "      <th>1</th>\n",
       "      <td>2025-06-01 04:17:23</td>\n",
       "      <td>46.3</td>\n",
       "    </tr>\n",
       "    <tr>\n",
       "      <th>2</th>\n",
       "      <td>2025-06-10 17:02:57</td>\n",
       "      <td>76</td>\n",
       "    </tr>\n",
       "    <tr>\n",
       "      <th>3</th>\n",
       "      <td>2025-06-23 05:23:22</td>\n",
       "      <td>56.4</td>\n",
       "    </tr>\n",
       "    <tr>\n",
       "      <th>4</th>\n",
       "      <td>2025-06-05 07:20:08</td>\n",
       "      <td>67.9</td>\n",
       "    </tr>\n",
       "    <tr>\n",
       "      <th>5</th>\n",
       "      <td>2025-06-26 22:27:02</td>\n",
       "      <td>87</td>\n",
       "    </tr>\n",
       "  </tbody>\n",
       "</table>\n",
       "</div>"
      ],
      "text/plain": [
       "             timestamp value\n",
       "0  2025-06-28 12:00:52  18.5\n",
       "1  2025-06-01 04:17:23  46.3\n",
       "2  2025-06-10 17:02:57    76\n",
       "3  2025-06-23 05:23:22  56.4\n",
       "4  2025-06-05 07:20:08  67.9\n",
       "5  2025-06-26 22:27:02    87"
      ]
     },
     "execution_count": 6,
     "metadata": {},
     "output_type": "execute_result"
    }
   ],
   "source": [
    "df.head(6)"
   ]
  },
  {
   "cell_type": "code",
   "execution_count": 7,
   "metadata": {},
   "outputs": [
    {
     "name": "stdout",
     "output_type": "stream",
     "text": [
      "<class 'pandas.core.frame.DataFrame'>\n",
      "RangeIndex: 1000000 entries, 0 to 999999\n",
      "Data columns (total 2 columns):\n",
      " #   Column     Non-Null Count    Dtype \n",
      "---  ------     --------------    ----- \n",
      " 0   timestamp  1000000 non-null  object\n",
      " 1   value      900960 non-null   object\n",
      "dtypes: object(2)\n",
      "memory usage: 15.3+ MB\n"
     ]
    }
   ],
   "source": [
    "df.info()"
   ]
  },
  {
   "cell_type": "code",
   "execution_count": 8,
   "metadata": {},
   "outputs": [
    {
     "data": {
      "text/html": [
       "<div>\n",
       "<style scoped>\n",
       "    .dataframe tbody tr th:only-of-type {\n",
       "        vertical-align: middle;\n",
       "    }\n",
       "\n",
       "    .dataframe tbody tr th {\n",
       "        vertical-align: top;\n",
       "    }\n",
       "\n",
       "    .dataframe thead th {\n",
       "        text-align: right;\n",
       "    }\n",
       "</style>\n",
       "<table border=\"1\" class=\"dataframe\">\n",
       "  <thead>\n",
       "    <tr style=\"text-align: right;\">\n",
       "      <th></th>\n",
       "      <th>timestamp</th>\n",
       "      <th>value</th>\n",
       "    </tr>\n",
       "  </thead>\n",
       "  <tbody>\n",
       "    <tr>\n",
       "      <th>count</th>\n",
       "      <td>1000000</td>\n",
       "      <td>900960</td>\n",
       "    </tr>\n",
       "    <tr>\n",
       "      <th>unique</th>\n",
       "      <td>829625</td>\n",
       "      <td>1002</td>\n",
       "    </tr>\n",
       "    <tr>\n",
       "      <th>top</th>\n",
       "      <td>2025-06-02 20:42:15</td>\n",
       "      <td>not_a_number</td>\n",
       "    </tr>\n",
       "    <tr>\n",
       "      <th>freq</th>\n",
       "      <td>6</td>\n",
       "      <td>49969</td>\n",
       "    </tr>\n",
       "  </tbody>\n",
       "</table>\n",
       "</div>"
      ],
      "text/plain": [
       "                  timestamp         value\n",
       "count               1000000        900960\n",
       "unique               829625          1002\n",
       "top     2025-06-02 20:42:15  not_a_number\n",
       "freq                      6         49969"
      ]
     },
     "execution_count": 8,
     "metadata": {},
     "output_type": "execute_result"
    }
   ],
   "source": [
    "df.describe(include='all')\n",
    "#קיימים ערכים כפולים\n",
    "#רק ב valur קיימים ערכי NULL "
   ]
  },
  {
   "cell_type": "code",
   "execution_count": 11,
   "metadata": {},
   "outputs": [
    {
     "name": "stdout",
     "output_type": "stream",
     "text": [
      "num of error val = 0\n"
     ]
    }
   ],
   "source": [
    "#פונקציה הבודקת האם הפורמט של התאריך/שעה תקין או לא\n",
    "def check_format(date):\n",
    "    try:\n",
    "        formatDate = datetime.strptime(date, '%Y-%m-%d %H:%M:%S')\n",
    "        return 1\n",
    "    except:\n",
    "        return -1\n",
    "    \n",
    "count = df.shape[0]\n",
    "df_date = df['timestamp']\n",
    "for timestamp in df_date:\n",
    "    result = check_format(timestamp)\n",
    "    if result < 0:\n",
    "        count += result\n",
    "    \n",
    "print(f\"num of error val = {df.shape[0] - count}\")\n",
    "    \n",
    "\n",
    "\n"
   ]
  },
  {
   "cell_type": "code",
   "execution_count": 5,
   "metadata": {},
   "outputs": [
    {
     "name": "stdout",
     "output_type": "stream",
     "text": [
      "There are 2598 duplicates rows\n"
     ]
    }
   ],
   "source": [
    "#פונקציה הבודקת אם יש כפילויות\n",
    "def duplicates(df):\n",
    "    duplicated_rows = df.duplicated(keep='first')\n",
    "    print(f\"There are {duplicated_rows.sum()} duplicates rows\")\n",
    "duplicates(df)"
   ]
  },
  {
   "cell_type": "code",
   "execution_count": 13,
   "metadata": {},
   "outputs": [
    {
     "name": "stdout",
     "output_type": "stream",
     "text": [
      "num of error date = 0\n"
     ]
    }
   ],
   "source": [
    "#פונקציה הבודקת אם ההחודש והיום בתאריך בטווח הנכון - אם התאריך תקין\n",
    "def check_date(date):\n",
    "    try:\n",
    "        date = pd.to_datetime(date)\n",
    "        return 1\n",
    "    except (ValueError, TypeError):\n",
    "        return -1\n",
    "    \n",
    "count = df.shape[0]\n",
    "df_date = df['timestamp']\n",
    "for timestamp in df_date:\n",
    "    result = check_date(timestamp)\n",
    "    if result < 0:\n",
    "        count += result\n",
    "    \n",
    "print(f\"num of error date = {df.shape[0] - count}\")"
   ]
  },
  {
   "cell_type": "code",
   "execution_count": 64,
   "metadata": {},
   "outputs": [],
   "source": [
    "# print(df.dtypes)\n",
    "\n",
    "#פונקציה המחשבת את הממוצע השעתי\n",
    "def hourly_mean(df):\n",
    "    coerced = pd.to_numeric(df['value'], errors='coerce')\n",
    "    invalid_mask = coerced.isna() & df['value'].notna()\n",
    "#     print(\"שורות עם ערכים שלא ניתנים להמרה למספר:\")\n",
    "#     print(df.loc[invalid_mask])\n",
    "    df_clean = df.loc[~invalid_mask].copy()\n",
    "\n",
    "    df_clean['value'] = pd.to_numeric(df_clean['value'], errors='raise')\n",
    "    df_clean['timestamp'] = pd.to_datetime(df_clean['timestamp'],format='%Y-%m-%d %H:%M:%S', errors='raise') \n",
    "#     print(df.dtypes)\n",
    "\n",
    "    df_clean['hour'] = df_clean['timestamp'].dt.floor('H')\n",
    "    hourly_mean = (df_clean.groupby('hour', sort=True)['value'].mean().reset_index(name='AverageValue'))\n",
    "    return hourly_mean\n",
    "\n",
    "# hourly_mean(df)"
   ]
  },
  {
   "cell_type": "code",
   "execution_count": 65,
   "metadata": {},
   "outputs": [],
   "source": [
    "#פונקציה המחלקת את הקובץ הגדול לחלקים קטנים לפי תאריך\n",
    "def split_by_date(df):\n",
    "    df['timestamp'] = pd.to_datetime(df['timestamp'])\n",
    "    df['date'] = df['timestamp'].dt.date  # שליפת תאריך בלי השעה\n",
    "    unique_dates = df['date'].unique()    # רשימת כל התאריכים הייחודיים\n",
    "\n",
    "    for date in unique_dates:\n",
    "        daily_df = df[df['date'] == date]\n",
    "        filename = f\"split_date_{date}.csv\"\n",
    "        daily_df.to_csv(filename, index=False, encoding=\"utf-8\")\n",
    "\n",
    "    days_csv_arr = glob.glob(\"split_date_*.csv\")\n",
    "    return days_csv_arr\n",
    "\n",
    "df= pd.read_csv(\"time_series_csv.csv\")\n",
    "dates_csv_arr = split_by_date(df)\n",
    "# dates_csv_arr"
   ]
  },
  {
   "cell_type": "code",
   "execution_count": 66,
   "metadata": {},
   "outputs": [
    {
     "data": {
      "text/plain": [
       "['hour_mean_split_date_2025-06-01.csv',\n",
       " 'hour_mean_split_date_2025-06-02.csv',\n",
       " 'hour_mean_split_date_2025-06-03.csv',\n",
       " 'hour_mean_split_date_2025-06-04.csv',\n",
       " 'hour_mean_split_date_2025-06-05.csv',\n",
       " 'hour_mean_split_date_2025-06-06.csv',\n",
       " 'hour_mean_split_date_2025-06-07.csv',\n",
       " 'hour_mean_split_date_2025-06-08.csv',\n",
       " 'hour_mean_split_date_2025-06-09.csv',\n",
       " 'hour_mean_split_date_2025-06-10.csv',\n",
       " 'hour_mean_split_date_2025-06-11.csv',\n",
       " 'hour_mean_split_date_2025-06-12.csv',\n",
       " 'hour_mean_split_date_2025-06-13.csv',\n",
       " 'hour_mean_split_date_2025-06-14.csv',\n",
       " 'hour_mean_split_date_2025-06-15.csv',\n",
       " 'hour_mean_split_date_2025-06-16.csv',\n",
       " 'hour_mean_split_date_2025-06-17.csv',\n",
       " 'hour_mean_split_date_2025-06-18.csv',\n",
       " 'hour_mean_split_date_2025-06-19.csv',\n",
       " 'hour_mean_split_date_2025-06-20.csv',\n",
       " 'hour_mean_split_date_2025-06-21.csv',\n",
       " 'hour_mean_split_date_2025-06-22.csv',\n",
       " 'hour_mean_split_date_2025-06-23.csv',\n",
       " 'hour_mean_split_date_2025-06-24.csv',\n",
       " 'hour_mean_split_date_2025-06-25.csv',\n",
       " 'hour_mean_split_date_2025-06-26.csv',\n",
       " 'hour_mean_split_date_2025-06-27.csv',\n",
       " 'hour_mean_split_date_2025-06-28.csv',\n",
       " 'hour_mean_split_date_2025-06-29.csv',\n",
       " 'hour_mean_split_date_2025-06-30.csv']"
      ]
     },
     "execution_count": 66,
     "metadata": {},
     "output_type": "execute_result"
    }
   ],
   "source": [
    "def date_file_with_mean(dates_csv_arr):\n",
    "    for file in dates_csv_arr:\n",
    "        df = pd.read_csv(file)\n",
    "        hourly_mean(df).to_csv(f\"hour_mean_{file}\", index=False, encoding=\"utf-8\")\n",
    "        \n",
    "date_file_with_mean(dates_csv_arr)       \n",
    "hour_mean_dates_csv_arr = glob.glob(\"hour_mean_split_date_*.csv\")\n",
    "hour_mean_dates_csv_arr"
   ]
  },
  {
   "cell_type": "code",
   "execution_count": 68,
   "metadata": {},
   "outputs": [
    {
     "data": {
      "text/html": [
       "<div>\n",
       "<style scoped>\n",
       "    .dataframe tbody tr th:only-of-type {\n",
       "        vertical-align: middle;\n",
       "    }\n",
       "\n",
       "    .dataframe tbody tr th {\n",
       "        vertical-align: top;\n",
       "    }\n",
       "\n",
       "    .dataframe thead th {\n",
       "        text-align: right;\n",
       "    }\n",
       "</style>\n",
       "<table border=\"1\" class=\"dataframe\">\n",
       "  <thead>\n",
       "    <tr style=\"text-align: right;\">\n",
       "      <th></th>\n",
       "      <th>hour</th>\n",
       "      <th>AverageValue</th>\n",
       "    </tr>\n",
       "  </thead>\n",
       "  <tbody>\n",
       "    <tr>\n",
       "      <th>0</th>\n",
       "      <td>2025-06-01 00:00:00</td>\n",
       "      <td>50.562894</td>\n",
       "    </tr>\n",
       "    <tr>\n",
       "      <th>1</th>\n",
       "      <td>2025-06-01 01:00:00</td>\n",
       "      <td>49.939803</td>\n",
       "    </tr>\n",
       "    <tr>\n",
       "      <th>2</th>\n",
       "      <td>2025-06-01 02:00:00</td>\n",
       "      <td>49.457213</td>\n",
       "    </tr>\n",
       "    <tr>\n",
       "      <th>3</th>\n",
       "      <td>2025-06-01 03:00:00</td>\n",
       "      <td>50.181573</td>\n",
       "    </tr>\n",
       "    <tr>\n",
       "      <th>4</th>\n",
       "      <td>2025-06-01 04:00:00</td>\n",
       "      <td>48.611496</td>\n",
       "    </tr>\n",
       "    <tr>\n",
       "      <th>...</th>\n",
       "      <td>...</td>\n",
       "      <td>...</td>\n",
       "    </tr>\n",
       "    <tr>\n",
       "      <th>19</th>\n",
       "      <td>2025-06-30 19:00:00</td>\n",
       "      <td>50.907897</td>\n",
       "    </tr>\n",
       "    <tr>\n",
       "      <th>20</th>\n",
       "      <td>2025-06-30 20:00:00</td>\n",
       "      <td>48.924813</td>\n",
       "    </tr>\n",
       "    <tr>\n",
       "      <th>21</th>\n",
       "      <td>2025-06-30 21:00:00</td>\n",
       "      <td>50.754128</td>\n",
       "    </tr>\n",
       "    <tr>\n",
       "      <th>22</th>\n",
       "      <td>2025-06-30 22:00:00</td>\n",
       "      <td>48.178125</td>\n",
       "    </tr>\n",
       "    <tr>\n",
       "      <th>23</th>\n",
       "      <td>2025-06-30 23:00:00</td>\n",
       "      <td>50.302817</td>\n",
       "    </tr>\n",
       "  </tbody>\n",
       "</table>\n",
       "<p>720 rows × 2 columns</p>\n",
       "</div>"
      ],
      "text/plain": [
       "                   hour  AverageValue\n",
       "0   2025-06-01 00:00:00     50.562894\n",
       "1   2025-06-01 01:00:00     49.939803\n",
       "2   2025-06-01 02:00:00     49.457213\n",
       "3   2025-06-01 03:00:00     50.181573\n",
       "4   2025-06-01 04:00:00     48.611496\n",
       "..                  ...           ...\n",
       "19  2025-06-30 19:00:00     50.907897\n",
       "20  2025-06-30 20:00:00     48.924813\n",
       "21  2025-06-30 21:00:00     50.754128\n",
       "22  2025-06-30 22:00:00     48.178125\n",
       "23  2025-06-30 23:00:00     50.302817\n",
       "\n",
       "[720 rows x 2 columns]"
      ]
     },
     "execution_count": 68,
     "metadata": {},
     "output_type": "execute_result"
    }
   ],
   "source": [
    "#פונקציה הממזגת את כל הקבצים עם הממוצעים לקובץ אחד גדול\n",
    "def merge_hourly_avg_files(all_files):\n",
    "    dfs = []\n",
    "    for file in all_files:\n",
    "        df = pd.read_csv(file)\n",
    "        dfs.append(df)\n",
    "\n",
    "    final_df = pd.concat(dfs)\n",
    "    final_df.to_csv(\"final_hourly_averages.csv\", index=False, encoding='utf-8-sig')\n",
    "\n",
    "    return final_df\n",
    "\n",
    "final_df = merge_hourly_avg_files(hour_mean_dates_csv_arr)\n",
    "final_df"
   ]
  },
  {
   "cell_type": "markdown",
   "metadata": {},
   "source": [
    "סעיף 2.3"
   ]
  },
  {
   "cell_type": "markdown",
   "metadata": {},
   "source": [
    "במקרה שהקבצים מגיעים בזרימה והייתי צריכה לחשב ממוצע שעתי בזמן אמת, אלו היו השינויים שהייתי עושה:\n",
    "\n",
    "לקובץ הסופי בו יש את הממוצעים השעתיים הייתי מוסיפה עוד 2 עמודות:\n",
    "\n",
    "1.sum-עמודה שתשמור את הסכום של כל ערכי הtimestamp שנכנסו באותה שעה ובאותו תאריך.\n",
    "\n",
    "2.count- עמודה שתשמור את כמות הפעמים שנכנסו timestamp באותה שעה ובאותו תאריך.\n",
    "\n",
    "כשיש לי את העמודות האלו אני יכולה לעדכן אותם נקודתית ובצורה מהירה בכל כניסה חדשה שהוזרמה ולפיהן גם לעדכן את הממוצע בקלות וביעילות."
   ]
  },
  {
   "cell_type": "code",
   "execution_count": 76,
   "metadata": {},
   "outputs": [],
   "source": [
    "#פונקציה המטעינה את הדאטה בהתאם לפורמט של הקובץ\n",
    "def load_file(file_path):\n",
    "    ext = os.path.splitext(file_path)[-1]\n",
    "    if ext ==\".xlsx\":\n",
    "        convert_excel_to_csv(file_path, \"time_series_csv.csv\")\n",
    "        return pd.read_csv(\"time_series_csv.csv\")\n",
    "    elif ext == \".csv\":\n",
    "        return pd.read_csv(file_path)\n",
    "    elif ext == \".parquet\":\n",
    "        return pq.read_table(file_path).to_pandas()\n",
    "    else:\n",
    "        raise ValueError(\"Unsupported file type\")"
   ]
  },
  {
   "cell_type": "code",
   "execution_count": 84,
   "metadata": {},
   "outputs": [
    {
     "data": {
      "text/html": [
       "<div>\n",
       "<style scoped>\n",
       "    .dataframe tbody tr th:only-of-type {\n",
       "        vertical-align: middle;\n",
       "    }\n",
       "\n",
       "    .dataframe tbody tr th {\n",
       "        vertical-align: top;\n",
       "    }\n",
       "\n",
       "    .dataframe thead th {\n",
       "        text-align: right;\n",
       "    }\n",
       "</style>\n",
       "<table border=\"1\" class=\"dataframe\">\n",
       "  <thead>\n",
       "    <tr style=\"text-align: right;\">\n",
       "      <th></th>\n",
       "      <th>hour</th>\n",
       "      <th>AverageValue</th>\n",
       "    </tr>\n",
       "  </thead>\n",
       "  <tbody>\n",
       "    <tr>\n",
       "      <th>0</th>\n",
       "      <td>2025-06-01 00:00:00</td>\n",
       "      <td>50.562894</td>\n",
       "    </tr>\n",
       "    <tr>\n",
       "      <th>1</th>\n",
       "      <td>2025-06-01 01:00:00</td>\n",
       "      <td>49.939803</td>\n",
       "    </tr>\n",
       "    <tr>\n",
       "      <th>2</th>\n",
       "      <td>2025-06-01 02:00:00</td>\n",
       "      <td>49.457213</td>\n",
       "    </tr>\n",
       "    <tr>\n",
       "      <th>3</th>\n",
       "      <td>2025-06-01 03:00:00</td>\n",
       "      <td>50.181573</td>\n",
       "    </tr>\n",
       "    <tr>\n",
       "      <th>4</th>\n",
       "      <td>2025-06-01 04:00:00</td>\n",
       "      <td>48.611496</td>\n",
       "    </tr>\n",
       "    <tr>\n",
       "      <th>...</th>\n",
       "      <td>...</td>\n",
       "      <td>...</td>\n",
       "    </tr>\n",
       "    <tr>\n",
       "      <th>19</th>\n",
       "      <td>2025-06-30 19:00:00</td>\n",
       "      <td>50.907897</td>\n",
       "    </tr>\n",
       "    <tr>\n",
       "      <th>20</th>\n",
       "      <td>2025-06-30 20:00:00</td>\n",
       "      <td>48.924813</td>\n",
       "    </tr>\n",
       "    <tr>\n",
       "      <th>21</th>\n",
       "      <td>2025-06-30 21:00:00</td>\n",
       "      <td>50.754128</td>\n",
       "    </tr>\n",
       "    <tr>\n",
       "      <th>22</th>\n",
       "      <td>2025-06-30 22:00:00</td>\n",
       "      <td>48.178125</td>\n",
       "    </tr>\n",
       "    <tr>\n",
       "      <th>23</th>\n",
       "      <td>2025-06-30 23:00:00</td>\n",
       "      <td>50.302817</td>\n",
       "    </tr>\n",
       "  </tbody>\n",
       "</table>\n",
       "<p>720 rows × 2 columns</p>\n",
       "</div>"
      ],
      "text/plain": [
       "                   hour  AverageValue\n",
       "0   2025-06-01 00:00:00     50.562894\n",
       "1   2025-06-01 01:00:00     49.939803\n",
       "2   2025-06-01 02:00:00     49.457213\n",
       "3   2025-06-01 03:00:00     50.181573\n",
       "4   2025-06-01 04:00:00     48.611496\n",
       "..                  ...           ...\n",
       "19  2025-06-30 19:00:00     50.907897\n",
       "20  2025-06-30 20:00:00     48.924813\n",
       "21  2025-06-30 21:00:00     50.754128\n",
       "22  2025-06-30 22:00:00     48.178125\n",
       "23  2025-06-30 23:00:00     50.302817\n",
       "\n",
       "[720 rows x 2 columns]"
      ]
     },
     "execution_count": 84,
     "metadata": {},
     "output_type": "execute_result"
    }
   ],
   "source": [
    "#פונקציה כללית ראשית הנעזרת בפונקציות שלעיל הכוללת תמיכה בקובץ .parquet\n",
    "#קלט קובץ\n",
    "#פלט- קובץ המכיל ממוצע שעתי\n",
    "\n",
    "def mean_hours(file):\n",
    "    #טעינת הדאטה\n",
    "    df = load_file(file)\n",
    "    \n",
    "    #זימון הפונקציה שמחלקת את הקובץ לחלקים קטנים\n",
    "    dates_csv_arr = split_by_date(df)\n",
    "    \n",
    "    #זימון הפונקציה שיוצרת לכל חלק קובץ עם ממוצע שעתי\n",
    "    date_file_with_mean(dates_csv_arr)       \n",
    "    hour_mean_dates_csv_arr = glob.glob(\"hour_mean_split_date_*.csv\")\n",
    "    \n",
    "    #זימון הפונקציה הממזגת את כל החלקים עם הממוצעים לקובץ אחד\n",
    "    final_df = merge_hourly_avg_files(hour_mean_dates_csv_arr)\n",
    "    \n",
    "    ext = os.path.splitext(file)[-1]\n",
    "    if ext == \".parquet\":\n",
    "        final_df.to_parquet(\"final_hourly_averages.parquet\", index=False)\n",
    "    \n",
    "    return final_df\n",
    "\n",
    "mean_hours(\"time_series.xlsx\") \n",
    "# mean_hours(\"time_series (4) (2).parquet\")"
   ]
  },
  {
   "cell_type": "code",
   "execution_count": 83,
   "metadata": {},
   "outputs": [
    {
     "name": "stdout",
     "output_type": "stream",
     "text": [
      "Index(['timestamp', 'mean_value', 'median_value', 'std_dev', 'count'], dtype='object')\n"
     ]
    }
   ],
   "source": [
    "df = load_file(\"time_series (4) (2).parquet\")\n",
    "print(df.columns)\n"
   ]
  },
  {
   "cell_type": "markdown",
   "metadata": {},
   "source": [
    "יתרונות של parquet:\n",
    "\n",
    "1. אחסון יעיל עם פורמט עמודות\n",
    "\n",
    "2. דחיסה מעולה - תופס פחות זיכרון\n",
    "\n",
    "3. מותאם לעומסי עבודה ביג דאטה\n",
    "\n",
    "4. ביצועי שאילתות מהירים יותר\n",
    "\n",
    "5. סכמה מובנית ומטא נתונים\n",
    "\n",
    "6. תמיכה בנתונים מורכבים ומקוננים\n",
    "\n",
    "7. תאימות בין פלטפורמות ומערכות אקולוגיות\n",
    "\n",
    "8. יעילות עלות"
   ]
  }
 ],
 "metadata": {
  "kernelspec": {
   "display_name": "Python 3",
   "language": "python",
   "name": "python3"
  },
  "language_info": {
   "codemirror_mode": {
    "name": "ipython",
    "version": 3
   },
   "file_extension": ".py",
   "mimetype": "text/x-python",
   "name": "python",
   "nbconvert_exporter": "python",
   "pygments_lexer": "ipython3",
   "version": "3.8.5"
  }
 },
 "nbformat": 4,
 "nbformat_minor": 4
}
